{
  "nbformat": 4,
  "nbformat_minor": 0,
  "metadata": {
    "colab": {
      "provenance": [],
      "authorship_tag": "ABX9TyOFQAxv+cWLs0jgC0XsdfRr",
      "include_colab_link": true
    },
    "kernelspec": {
      "name": "python3",
      "display_name": "Python 3"
    },
    "language_info": {
      "name": "python"
    }
  },
  "cells": [
    {
      "cell_type": "markdown",
      "metadata": {
        "id": "view-in-github",
        "colab_type": "text"
      },
      "source": [
        "<a href=\"https://colab.research.google.com/github/harshad13412/p100/blob/main/Untitled4.ipynb\" target=\"_parent\"><img src=\"https://colab.research.google.com/assets/colab-badge.svg\" alt=\"Open In Colab\"/></a>"
      ]
    },
    {
      "cell_type": "code",
      "execution_count": 1,
      "metadata": {
        "colab": {
          "base_uri": "https://localhost:8080/"
        },
        "id": "oruuR589_lRH",
        "outputId": "aea40622-2979-4985-ec3b-9591517ecdd4"
      },
      "outputs": [
        {
          "output_type": "stream",
          "name": "stdout",
          "text": [
            "Movie: Sample Movie, Avg Rating: 4, Stars: ****\n"
          ]
        }
      ],
      "source": [
        "class MovieReview:\n",
        "    def __init__(self, movie, story, actor, music):\n",
        "        self.movie_name = movie\n",
        "        self.story_rating = story\n",
        "        self.actor_rating = actor\n",
        "        self.music_rating = music\n",
        "\n",
        "        self.avg = int((self.story_rating + self.actor_rating + self.music_rating) / 3)\n",
        "\n",
        "        self.my_rating = {\n",
        "            \"Movie Name\": self.movie_name,\n",
        "            \"Story_Rating\": self.story_rating,\n",
        "            \"Actor_Rating\": self.actor_rating,\n",
        "            \"Music_Rating\": self.music_rating,\n",
        "            \"Avg_rating\": self.avg\n",
        "        }\n",
        "\n",
        "    def add_movie_ratings(self, movie_list):\n",
        "        movie_list.append(self.my_rating)\n",
        "\n",
        "    @staticmethod\n",
        "    def get_star(avg_rating):\n",
        "        if avg_rating == 5:\n",
        "            return \"*****\"\n",
        "        elif avg_rating == 4:\n",
        "            return \"****\"\n",
        "        elif avg_rating == 3:\n",
        "            return \"***\"\n",
        "        elif avg_rating == 2:\n",
        "            return \"**\"\n",
        "        elif avg_rating == 1:\n",
        "            return \"*\"\n",
        "        else:\n",
        "            return \"Invalid Rating\"\n",
        "\n",
        "# Example Usage\n",
        "moviereviews = []\n",
        "movie_review = MovieReview(\"Sample Movie\", 4, 5, 3)\n",
        "\n",
        "movie_review.add_movie_ratings(moviereviews)\n",
        "\n",
        "# Displaying stars for the movie in the list\n",
        "for movie in moviereviews:\n",
        "    avg_rating = movie[\"Avg_rating\"]\n",
        "    stars = MovieReview.get_star(avg_rating)\n",
        "    print(f\"Movie: {movie['Movie Name']}, Avg Rating: {avg_rating}, Stars: {stars}\")\n"
      ]
    }
  ]
}